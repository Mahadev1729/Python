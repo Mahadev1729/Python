{
 "cells": [
  {
   "cell_type": "markdown",
   "id": "e87a1a99",
   "metadata": {},
   "source": []
  },
  {
   "cell_type": "markdown",
   "id": "d5fcd668",
   "metadata": {},
   "source": [
    "Handling Imbalanced Dataset\n",
    "\n",
    "1.Up sampling\n",
    "2.Down sampling"
   ]
  },
  {
   "cell_type": "code",
   "execution_count": 1,
   "id": "b30a56ac",
   "metadata": {},
   "outputs": [],
   "source": [
    "import numpy as np \n",
    "import pandas as pd \n",
    "\n",
    "np.random.seed(123)\n",
    "\n",
    "n_samples=1000\n",
    "class_0_ratio=0.9\n",
    "n_class_0=int(n_samples*class_0_ratio)\n",
    "n_class_1=n_samples-n_class_0"
   ]
  },
  {
   "cell_type": "code",
   "execution_count": 2,
   "id": "b87bdfcd",
   "metadata": {},
   "outputs": [
    {
     "data": {
      "text/plain": [
       "(900, 100)"
      ]
     },
     "execution_count": 2,
     "metadata": {},
     "output_type": "execute_result"
    }
   ],
   "source": [
    "n_class_0,n_class_1"
   ]
  },
  {
   "cell_type": "code",
   "execution_count": 3,
   "id": "4016bdba",
   "metadata": {},
   "outputs": [
    {
     "data": {
      "text/plain": [
       "1000"
      ]
     },
     "execution_count": 3,
     "metadata": {},
     "output_type": "execute_result"
    }
   ],
   "source": [
    "n_samples"
   ]
  },
  {
   "cell_type": "code",
   "execution_count": 11,
   "id": "af9dea68",
   "metadata": {},
   "outputs": [],
   "source": [
    "## CREATE MY DATAFRAM WITH IMBALANCED DATASET\n",
    "\n",
    "class_0=pd.DataFrame({\n",
    "    \"feature_1\":np.random.normal(loc=0,scale=1,size=n_class_0),\n",
    "    \"feature_2\":np.random.normal(loc=0,scale=1,size=n_class_0),\n",
    "    'target':[0]*n_class_0\n",
    "})\n",
    "\n",
    "class_1=pd.DataFrame({\n",
    "    \"feature_1\":np.random.normal(loc=2,scale=1,size=n_class_1),\n",
    "    \"feature_2\":np.random.normal(loc=2,scale=1,size=n_class_1),\n",
    "    'target':[1]*n_class_1\n",
    "})"
   ]
  },
  {
   "cell_type": "code",
   "execution_count": 5,
   "id": "91f352c2",
   "metadata": {},
   "outputs": [
    {
     "data": {
      "application/vnd.microsoft.datawrangler.viewer.v0+json": {
       "columns": [
        {
         "name": "index",
         "rawType": "int64",
         "type": "integer"
        },
        {
         "name": "feature_1",
         "rawType": "float64",
         "type": "float"
        },
        {
         "name": "feature_2",
         "rawType": "float64",
         "type": "float"
        },
        {
         "name": "target",
         "rawType": "int64",
         "type": "integer"
        }
       ],
       "conversionMethod": "pd.DataFrame",
       "ref": "c15775aa-6077-448f-a6d9-b5ef374677da",
       "rows": [
        [
         "0",
         "-1.0856306033005612",
         "0.5513022180697554",
         "0"
        ],
        [
         "1",
         "0.9973454465835858",
         "0.41958914519806184",
         "0"
        ],
        [
         "2",
         "0.28297849805199204",
         "1.8156520639191072",
         "0"
        ],
        [
         "3",
         "-1.506294713918092",
         "-0.25275030069976034",
         "0"
        ],
        [
         "4",
         "-0.5786002519685364",
         "-0.2920041627702413",
         "0"
        ],
        [
         "5",
         "1.651436537097151",
         "-0.11693174014674963",
         "0"
        ],
        [
         "6",
         "-2.426679243393074",
         "-0.10239107510368999",
         "0"
        ],
        [
         "7",
         "-0.42891262885617726",
         "-2.272617710954302",
         "0"
        ],
        [
         "8",
         "1.265936258705534",
         "-0.6426098414665713",
         "0"
        ],
        [
         "9",
         "-0.8667404022651017",
         "0.29988506654577324",
         "0"
        ],
        [
         "10",
         "-0.6788861516220543",
         "-0.008256514667853591",
         "0"
        ],
        [
         "11",
         "-0.09470896893689112",
         "-0.7993391541971328",
         "0"
        ],
        [
         "12",
         "1.4913896261242878",
         "-0.6647792521753807",
         "0"
        ],
        [
         "13",
         "-0.638901996684651",
         "-0.355613128296959",
         "0"
        ],
        [
         "14",
         "-0.44398195964606546",
         "-0.8015717808024205",
         "0"
        ],
        [
         "15",
         "-0.43435127561851733",
         "-0.5130506104434005",
         "0"
        ],
        [
         "16",
         "2.2059300827254558",
         "-0.5393901194785343",
         "0"
        ],
        [
         "17",
         "2.1867860889737867",
         "0.8953708466071769",
         "0"
        ],
        [
         "18",
         "1.004053897878877",
         "1.0163912685410768",
         "0"
        ],
        [
         "19",
         "0.386186399174856",
         "0.9335850943946729",
         "0"
        ],
        [
         "20",
         "0.7373685758962422",
         "0.4267017991752182",
         "0"
        ],
        [
         "21",
         "1.490732028150799",
         "-0.7083224844135482",
         "0"
        ],
        [
         "22",
         "-0.9358338684023914",
         "0.9598304499937307",
         "0"
        ],
        [
         "23",
         "1.1758290447821034",
         "-0.31425058651942994",
         "0"
        ],
        [
         "24",
         "-1.2538806677490124",
         "0.02305220825947024",
         "0"
        ],
        [
         "25",
         "-0.6377515024534103",
         "1.3382205319305884",
         "0"
        ],
        [
         "26",
         "0.9071051958003012",
         "0.08399285613164036",
         "0"
        ],
        [
         "27",
         "-1.428680700225969",
         "0.2472840302376188",
         "0"
        ],
        [
         "28",
         "-0.1400687201886661",
         "-1.4127794859965894",
         "0"
        ],
        [
         "29",
         "-0.8617548958596855",
         "0.4870092937668535",
         "0"
        ],
        [
         "30",
         "-0.2556193705305969",
         "-0.9800066473024811",
         "0"
        ],
        [
         "31",
         "-2.7985891054607244",
         "1.011939656367902",
         "0"
        ],
        [
         "32",
         "-1.771533104509847",
         "-0.18459917717285057",
         "0"
        ],
        [
         "33",
         "-0.6998772345979173",
         "-2.2361688420171104",
         "0"
        ],
        [
         "34",
         "0.9274624317585825",
         "-0.35802010256334205",
         "0"
        ],
        [
         "35",
         "-0.1736356827902158",
         "-0.22803453828591722",
         "0"
        ],
        [
         "36",
         "0.0028459158968110196",
         "0.48547522607809224",
         "0"
        ],
        [
         "37",
         "0.688222711102285",
         "0.6705123906471673",
         "0"
        ],
        [
         "38",
         "-0.8795363430090519",
         "-0.32776424472118837",
         "0"
        ],
        [
         "39",
         "0.283627323807291",
         "1.0128681948538745",
         "0"
        ],
        [
         "40",
         "-0.8053665180656158",
         "-3.167055328652906",
         "0"
        ],
        [
         "41",
         "-1.7276694941206072",
         "-0.7139889980252292",
         "0"
        ],
        [
         "42",
         "-0.390899793755101",
         "-1.1123642708371866",
         "0"
        ],
        [
         "43",
         "0.5738058624050577",
         "-1.2541835105849213",
         "0"
        ],
        [
         "44",
         "0.3385890509998015",
         "0.9597063713475107",
         "0"
        ],
        [
         "45",
         "-0.01183049447881976",
         "0.8291703990248491",
         "0"
        ],
        [
         "46",
         "2.392365265937726",
         "-0.7757700204102219",
         "0"
        ],
        [
         "47",
         "0.4129121603087788",
         "1.17805700395996",
         "0"
        ],
        [
         "48",
         "0.9787360059373466",
         "0.10146689245241805",
         "0"
        ],
        [
         "49",
         "2.2381433384979528",
         "-0.4216841007751528",
         "0"
        ]
       ],
       "shape": {
        "columns": 3,
        "rows": 900
       }
      },
      "text/html": [
       "<div>\n",
       "<style scoped>\n",
       "    .dataframe tbody tr th:only-of-type {\n",
       "        vertical-align: middle;\n",
       "    }\n",
       "\n",
       "    .dataframe tbody tr th {\n",
       "        vertical-align: top;\n",
       "    }\n",
       "\n",
       "    .dataframe thead th {\n",
       "        text-align: right;\n",
       "    }\n",
       "</style>\n",
       "<table border=\"1\" class=\"dataframe\">\n",
       "  <thead>\n",
       "    <tr style=\"text-align: right;\">\n",
       "      <th></th>\n",
       "      <th>feature_1</th>\n",
       "      <th>feature_2</th>\n",
       "      <th>target</th>\n",
       "    </tr>\n",
       "  </thead>\n",
       "  <tbody>\n",
       "    <tr>\n",
       "      <th>0</th>\n",
       "      <td>-1.085631</td>\n",
       "      <td>0.551302</td>\n",
       "      <td>0</td>\n",
       "    </tr>\n",
       "    <tr>\n",
       "      <th>1</th>\n",
       "      <td>0.997345</td>\n",
       "      <td>0.419589</td>\n",
       "      <td>0</td>\n",
       "    </tr>\n",
       "    <tr>\n",
       "      <th>2</th>\n",
       "      <td>0.282978</td>\n",
       "      <td>1.815652</td>\n",
       "      <td>0</td>\n",
       "    </tr>\n",
       "    <tr>\n",
       "      <th>3</th>\n",
       "      <td>-1.506295</td>\n",
       "      <td>-0.252750</td>\n",
       "      <td>0</td>\n",
       "    </tr>\n",
       "    <tr>\n",
       "      <th>4</th>\n",
       "      <td>-0.578600</td>\n",
       "      <td>-0.292004</td>\n",
       "      <td>0</td>\n",
       "    </tr>\n",
       "    <tr>\n",
       "      <th>...</th>\n",
       "      <td>...</td>\n",
       "      <td>...</td>\n",
       "      <td>...</td>\n",
       "    </tr>\n",
       "    <tr>\n",
       "      <th>895</th>\n",
       "      <td>0.238761</td>\n",
       "      <td>-0.003155</td>\n",
       "      <td>0</td>\n",
       "    </tr>\n",
       "    <tr>\n",
       "      <th>896</th>\n",
       "      <td>-1.106386</td>\n",
       "      <td>-0.430660</td>\n",
       "      <td>0</td>\n",
       "    </tr>\n",
       "    <tr>\n",
       "      <th>897</th>\n",
       "      <td>0.366732</td>\n",
       "      <td>-0.146416</td>\n",
       "      <td>0</td>\n",
       "    </tr>\n",
       "    <tr>\n",
       "      <th>898</th>\n",
       "      <td>1.023906</td>\n",
       "      <td>1.160176</td>\n",
       "      <td>0</td>\n",
       "    </tr>\n",
       "    <tr>\n",
       "      <th>899</th>\n",
       "      <td>-0.210056</td>\n",
       "      <td>-0.641512</td>\n",
       "      <td>0</td>\n",
       "    </tr>\n",
       "  </tbody>\n",
       "</table>\n",
       "<p>900 rows × 3 columns</p>\n",
       "</div>"
      ],
      "text/plain": [
       "     feature_1  feature_2  target\n",
       "0    -1.085631   0.551302       0\n",
       "1     0.997345   0.419589       0\n",
       "2     0.282978   1.815652       0\n",
       "3    -1.506295  -0.252750       0\n",
       "4    -0.578600  -0.292004       0\n",
       "..         ...        ...     ...\n",
       "895   0.238761  -0.003155       0\n",
       "896  -1.106386  -0.430660       0\n",
       "897   0.366732  -0.146416       0\n",
       "898   1.023906   1.160176       0\n",
       "899  -0.210056  -0.641512       0\n",
       "\n",
       "[900 rows x 3 columns]"
      ]
     },
     "execution_count": 5,
     "metadata": {},
     "output_type": "execute_result"
    }
   ],
   "source": [
    "class_0"
   ]
  },
  {
   "cell_type": "code",
   "execution_count": 12,
   "id": "a96a0bc3",
   "metadata": {},
   "outputs": [],
   "source": [
    "df=pd.concat([class_0]+[class_1]).reset_index(drop=True)"
   ]
  },
  {
   "cell_type": "code",
   "execution_count": 13,
   "id": "c7a959b1",
   "metadata": {},
   "outputs": [
    {
     "data": {
      "application/vnd.microsoft.datawrangler.viewer.v0+json": {
       "columns": [
        {
         "name": "index",
         "rawType": "int64",
         "type": "integer"
        },
        {
         "name": "feature_1",
         "rawType": "float64",
         "type": "float"
        },
        {
         "name": "feature_2",
         "rawType": "float64",
         "type": "float"
        },
        {
         "name": "target",
         "rawType": "int64",
         "type": "integer"
        }
       ],
       "conversionMethod": "pd.DataFrame",
       "ref": "eb5455fd-f133-44f3-b0a0-c488a36b0810",
       "rows": [
        [
         "0",
         "-1.7742235493872753",
         "0.285743880026545",
         "0"
        ],
        [
         "1",
         "-1.2013773057044526",
         "0.33327939962756703",
         "0"
        ],
        [
         "2",
         "1.096256790339018",
         "0.5318067066581046",
         "0"
        ],
        [
         "3",
         "0.8610368544463314",
         "-0.3547656871123188",
         "0"
        ],
        [
         "4",
         "-1.5203671239665197",
         "-1.1208145706668544",
         "0"
        ]
       ],
       "shape": {
        "columns": 3,
        "rows": 5
       }
      },
      "text/html": [
       "<div>\n",
       "<style scoped>\n",
       "    .dataframe tbody tr th:only-of-type {\n",
       "        vertical-align: middle;\n",
       "    }\n",
       "\n",
       "    .dataframe tbody tr th {\n",
       "        vertical-align: top;\n",
       "    }\n",
       "\n",
       "    .dataframe thead th {\n",
       "        text-align: right;\n",
       "    }\n",
       "</style>\n",
       "<table border=\"1\" class=\"dataframe\">\n",
       "  <thead>\n",
       "    <tr style=\"text-align: right;\">\n",
       "      <th></th>\n",
       "      <th>feature_1</th>\n",
       "      <th>feature_2</th>\n",
       "      <th>target</th>\n",
       "    </tr>\n",
       "  </thead>\n",
       "  <tbody>\n",
       "    <tr>\n",
       "      <th>0</th>\n",
       "      <td>-1.774224</td>\n",
       "      <td>0.285744</td>\n",
       "      <td>0</td>\n",
       "    </tr>\n",
       "    <tr>\n",
       "      <th>1</th>\n",
       "      <td>-1.201377</td>\n",
       "      <td>0.333279</td>\n",
       "      <td>0</td>\n",
       "    </tr>\n",
       "    <tr>\n",
       "      <th>2</th>\n",
       "      <td>1.096257</td>\n",
       "      <td>0.531807</td>\n",
       "      <td>0</td>\n",
       "    </tr>\n",
       "    <tr>\n",
       "      <th>3</th>\n",
       "      <td>0.861037</td>\n",
       "      <td>-0.354766</td>\n",
       "      <td>0</td>\n",
       "    </tr>\n",
       "    <tr>\n",
       "      <th>4</th>\n",
       "      <td>-1.520367</td>\n",
       "      <td>-1.120815</td>\n",
       "      <td>0</td>\n",
       "    </tr>\n",
       "  </tbody>\n",
       "</table>\n",
       "</div>"
      ],
      "text/plain": [
       "   feature_1  feature_2  target\n",
       "0  -1.774224   0.285744       0\n",
       "1  -1.201377   0.333279       0\n",
       "2   1.096257   0.531807       0\n",
       "3   0.861037  -0.354766       0\n",
       "4  -1.520367  -1.120815       0"
      ]
     },
     "execution_count": 13,
     "metadata": {},
     "output_type": "execute_result"
    }
   ],
   "source": [
    "df=pd.concat([class_0]+[class_1]).reset_index(drop=True)\n",
    "df.head()"
   ]
  },
  {
   "cell_type": "code",
   "execution_count": 9,
   "id": "8bf6dfa8",
   "metadata": {},
   "outputs": [
    {
     "data": {
      "application/vnd.microsoft.datawrangler.viewer.v0+json": {
       "columns": [
        {
         "name": "index",
         "rawType": "int64",
         "type": "integer"
        },
        {
         "name": "feature_1",
         "rawType": "float64",
         "type": "float"
        },
        {
         "name": "feature_2",
         "rawType": "float64",
         "type": "float"
        },
        {
         "name": "target",
         "rawType": "int64",
         "type": "integer"
        }
       ],
       "conversionMethod": "pd.DataFrame",
       "ref": "47075e01-1ccd-4c0d-b0c3-f80964635048",
       "rows": [
        [
         "995",
         "1.3763708068802365",
         "2.845701242121474",
         "0"
        ],
        [
         "996",
         "2.2398097034287088",
         "0.8800774861663843",
         "0"
        ],
        [
         "997",
         "1.1317603121330273",
         "1.6407032841014964",
         "0"
        ],
        [
         "998",
         "2.902006456318273",
         "0.39030491588253335",
         "0"
        ],
        [
         "999",
         "2.697490154587941",
         "2.0135700618919765",
         "0"
        ]
       ],
       "shape": {
        "columns": 3,
        "rows": 5
       }
      },
      "text/html": [
       "<div>\n",
       "<style scoped>\n",
       "    .dataframe tbody tr th:only-of-type {\n",
       "        vertical-align: middle;\n",
       "    }\n",
       "\n",
       "    .dataframe tbody tr th {\n",
       "        vertical-align: top;\n",
       "    }\n",
       "\n",
       "    .dataframe thead th {\n",
       "        text-align: right;\n",
       "    }\n",
       "</style>\n",
       "<table border=\"1\" class=\"dataframe\">\n",
       "  <thead>\n",
       "    <tr style=\"text-align: right;\">\n",
       "      <th></th>\n",
       "      <th>feature_1</th>\n",
       "      <th>feature_2</th>\n",
       "      <th>target</th>\n",
       "    </tr>\n",
       "  </thead>\n",
       "  <tbody>\n",
       "    <tr>\n",
       "      <th>995</th>\n",
       "      <td>1.376371</td>\n",
       "      <td>2.845701</td>\n",
       "      <td>0</td>\n",
       "    </tr>\n",
       "    <tr>\n",
       "      <th>996</th>\n",
       "      <td>2.239810</td>\n",
       "      <td>0.880077</td>\n",
       "      <td>0</td>\n",
       "    </tr>\n",
       "    <tr>\n",
       "      <th>997</th>\n",
       "      <td>1.131760</td>\n",
       "      <td>1.640703</td>\n",
       "      <td>0</td>\n",
       "    </tr>\n",
       "    <tr>\n",
       "      <th>998</th>\n",
       "      <td>2.902006</td>\n",
       "      <td>0.390305</td>\n",
       "      <td>0</td>\n",
       "    </tr>\n",
       "    <tr>\n",
       "      <th>999</th>\n",
       "      <td>2.697490</td>\n",
       "      <td>2.013570</td>\n",
       "      <td>0</td>\n",
       "    </tr>\n",
       "  </tbody>\n",
       "</table>\n",
       "</div>"
      ],
      "text/plain": [
       "     feature_1  feature_2  target\n",
       "995   1.376371   2.845701       0\n",
       "996   2.239810   0.880077       0\n",
       "997   1.131760   1.640703       0\n",
       "998   2.902006   0.390305       0\n",
       "999   2.697490   2.013570       0"
      ]
     },
     "execution_count": 9,
     "metadata": {},
     "output_type": "execute_result"
    }
   ],
   "source": [
    "df.tail()"
   ]
  },
  {
   "cell_type": "code",
   "execution_count": 14,
   "id": "ab4cccf4",
   "metadata": {},
   "outputs": [
    {
     "data": {
      "text/plain": [
       "target\n",
       "0    900\n",
       "1    100\n",
       "Name: count, dtype: int64"
      ]
     },
     "execution_count": 14,
     "metadata": {},
     "output_type": "execute_result"
    }
   ],
   "source": [
    "df['target'].value_counts()"
   ]
  },
  {
   "cell_type": "markdown",
   "id": "075b48d1",
   "metadata": {},
   "source": [
    "1.UpSampling"
   ]
  },
  {
   "cell_type": "code",
   "execution_count": 17,
   "id": "aa826a3d",
   "metadata": {},
   "outputs": [],
   "source": [
    "## upsampling\n",
    "df=pd.concat([class_0]+[class_1]).reset_index(drop=True)\n",
    "df_minarity=df[df['target']==1]\n",
    "df_majority=df[df['target']==0]"
   ]
  },
  {
   "cell_type": "code",
   "execution_count": 1,
   "id": "f10cb94c",
   "metadata": {},
   "outputs": [
    {
     "ename": "ModuleNotFoundError",
     "evalue": "No module named 'sklearn'",
     "output_type": "error",
     "traceback": [
      "\u001b[1;31m---------------------------------------------------------------------------\u001b[0m",
      "\u001b[1;31mModuleNotFoundError\u001b[0m                       Traceback (most recent call last)",
      "Cell \u001b[1;32mIn[1], line 1\u001b[0m\n\u001b[1;32m----> 1\u001b[0m \u001b[38;5;28;01mfrom\u001b[39;00m \u001b[38;5;21;01msklearn\u001b[39;00m\u001b[38;5;21;01m.\u001b[39;00m\u001b[38;5;21;01mutils\u001b[39;00m \u001b[38;5;28;01mimport\u001b[39;00m resample\n\u001b[0;32m      2\u001b[0m resample(df_minarity)\n",
      "\u001b[1;31mModuleNotFoundError\u001b[0m: No module named 'sklearn'"
     ]
    }
   ],
   "source": [
    "from sklearn.utils import resample\n",
    "resample(df_minarity)"
   ]
  },
  {
   "cell_type": "code",
   "execution_count": 19,
   "id": "c218c53f",
   "metadata": {},
   "outputs": [
    {
     "name": "stdout",
     "output_type": "stream",
     "text": [
      "Collecting sklearn\n",
      "  Using cached sklearn-0.0.post12.tar.gz (2.6 kB)\n",
      "  Preparing metadata (setup.py): started\n",
      "  Preparing metadata (setup.py): finished with status 'error'\n"
     ]
    },
    {
     "name": "stderr",
     "output_type": "stream",
     "text": [
      "  error: subprocess-exited-with-error\n",
      "  \n",
      "  × python setup.py egg_info did not run successfully.\n",
      "  │ exit code: 1\n",
      "  ╰─> [15 lines of output]\n",
      "      The 'sklearn' PyPI package is deprecated, use 'scikit-learn'\n",
      "      rather than 'sklearn' for pip commands.\n",
      "      \n",
      "      Here is how to fix this error in the main use cases:\n",
      "      - use 'pip install scikit-learn' rather than 'pip install sklearn'\n",
      "      - replace 'sklearn' by 'scikit-learn' in your pip requirements files\n",
      "        (requirements.txt, setup.py, setup.cfg, Pipfile, etc ...)\n",
      "      - if the 'sklearn' package is used by one of your dependencies,\n",
      "        it would be great if you take some time to track which package uses\n",
      "        'sklearn' instead of 'scikit-learn' and report it to their issue tracker\n",
      "      - as a last resort, set the environment variable\n",
      "        SKLEARN_ALLOW_DEPRECATED_SKLEARN_PACKAGE_INSTALL=True to avoid this error\n",
      "      \n",
      "      More information is available at\n",
      "      https://github.com/scikit-learn/sklearn-pypi-package\n",
      "      [end of output]\n",
      "  \n",
      "  note: This error originates from a subprocess, and is likely not a problem with pip.\n",
      "error: metadata-generation-failed\n",
      "\n",
      "× Encountered error while generating package metadata.\n",
      "╰─> See above for output.\n",
      "\n",
      "note: This is an issue with the package mentioned above, not pip.\n",
      "hint: See above for details.\n"
     ]
    }
   ],
   "source": [
    "!pip install sklearn"
   ]
  },
  {
   "cell_type": "code",
   "execution_count": null,
   "id": "ff7248a1",
   "metadata": {},
   "outputs": [],
   "source": []
  }
 ],
 "metadata": {
  "kernelspec": {
   "display_name": "Python 3",
   "language": "python",
   "name": "python3"
  },
  "language_info": {
   "codemirror_mode": {
    "name": "ipython",
    "version": 3
   },
   "file_extension": ".py",
   "mimetype": "text/x-python",
   "name": "python",
   "nbconvert_exporter": "python",
   "pygments_lexer": "ipython3",
   "version": "3.12.8"
  }
 },
 "nbformat": 4,
 "nbformat_minor": 5
}
