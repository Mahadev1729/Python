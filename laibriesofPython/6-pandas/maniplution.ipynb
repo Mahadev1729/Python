{
 "cells": [
  {
   "cell_type": "code",
   "execution_count": 7,
   "metadata": {},
   "outputs": [
    {
     "name": "stdout",
     "output_type": "stream",
     "text": [
      "   Sl.No.       Candidate Name  PAPER 1  PAPER 2     tm \n",
      "0       1         DIVYASHREE M    48.75    40.00   88.75\n",
      "1       2           PRADEEP GN    32.50    37.50   70.00\n",
      "2       3              NAVEENA    52.00    42.50   94.50\n",
      "3       4  PREETHAAM R HOSGAVI    49.75    54.50  104.25\n",
      "4       5             PARAMESH    52.50    49.75  102.25\n",
      "      Sl.No.                Candidate Name  PAPER 1  PAPER 2     tm \n",
      "3023    3024                 MANIKANTA G M    33.50    39.00   72.50\n",
      "3024    3025                     DARSHAN P    59.25    51.00  110.25\n",
      "3025    3026                    MANJUNATHA    39.50    33.75   73.25\n",
      "3026    3027                   ASHWINI B M    34.75    47.00   81.75\n",
      "3027    3028  PRAVEEN DEVENDRAPPA HALAKERI    40.00    58.00   98.00\n"
     ]
    }
   ],
   "source": [
    "import pandas as pd\n",
    "df=pd.read_csv('test.csv')\n",
    "## fetch the first 5 rows\n",
    "df.drop('APPLICATION NUMBER',axis=1,inplace=True)\n",
    "df.drop('Reg No',axis=1,inplace=True)\n",
    "print(df.head(5))\n",
    "# print(df)\n",
    "print(df.tail(5))"
   ]
  },
  {
   "cell_type": "code",
   "execution_count": 8,
   "metadata": {},
   "outputs": [
    {
     "name": "stdout",
     "output_type": "stream",
     "text": [
      "      Sl.No.                Candidate Name  PAPER 1  PAPER 2     tm \n",
      "0          1                  DIVYASHREE M    48.75    40.00   88.75\n",
      "1          2                    PRADEEP GN    32.50    37.50   70.00\n",
      "2          3                       NAVEENA    52.00    42.50   94.50\n",
      "3          4           PREETHAAM R HOSGAVI    49.75    54.50  104.25\n",
      "4          5                      PARAMESH    52.50    49.75  102.25\n",
      "...      ...                           ...      ...      ...     ...\n",
      "3023    3024                 MANIKANTA G M    33.50    39.00   72.50\n",
      "3024    3025                     DARSHAN P    59.25    51.00  110.25\n",
      "3025    3026                    MANJUNATHA    39.50    33.75   73.25\n",
      "3026    3027                   ASHWINI B M    34.75    47.00   81.75\n",
      "3027    3028  PRAVEEN DEVENDRAPPA HALAKERI    40.00    58.00   98.00\n",
      "\n",
      "[3028 rows x 5 columns]\n"
     ]
    }
   ],
   "source": [
    "print(df)"
   ]
  },
  {
   "cell_type": "code",
   "execution_count": 10,
   "metadata": {},
   "outputs": [
    {
     "name": "stdout",
     "output_type": "stream",
     "text": [
      "            Sl.No.      PAPER 1      PAPER 2          tm \n",
      "count  3028.000000  3028.000000  3028.000000  3028.000000\n",
      "mean   1514.500000    45.604359    40.158686    85.763045\n",
      "std     874.252633    10.196997     9.521746    13.448085\n",
      "min       1.000000    17.750000     9.750000    70.000000\n",
      "25%     757.750000    38.437500    33.750000    75.250000\n",
      "50%    1514.500000    45.500000    40.000000    82.000000\n",
      "75%    2271.250000    52.500000    46.250000    93.000000\n",
      "max    3028.000000    84.000000    74.750000   147.750000\n"
     ]
    }
   ],
   "source": [
    "print(df.describe())"
   ]
  },
  {
   "cell_type": "code",
   "execution_count": 11,
   "metadata": {},
   "outputs": [
    {
     "data": {
      "text/plain": [
       "Sl.No.              int64\n",
       "Candidate Name     object\n",
       "PAPER 1           float64\n",
       "PAPER 2           float64\n",
       "tm                float64\n",
       "dtype: object"
      ]
     },
     "execution_count": 11,
     "metadata": {},
     "output_type": "execute_result"
    }
   ],
   "source": [
    "df.dtypes"
   ]
  },
  {
   "cell_type": "code",
   "execution_count": 34,
   "metadata": {},
   "outputs": [
    {
     "name": "stdout",
     "output_type": "stream",
     "text": [
      "0       48.75\n",
      "1       32.50\n",
      "2       52.00\n",
      "3       49.75\n",
      "4       52.50\n",
      "        ...  \n",
      "3023    33.50\n",
      "3024    59.25\n",
      "3025    39.50\n",
      "3026    34.75\n",
      "3027    40.00\n",
      "Name: PAPER 1, Length: 3028, dtype: float64\n"
     ]
    },
    {
     "ename": "KeyError",
     "evalue": "'total'",
     "output_type": "error",
     "traceback": [
      "\u001b[1;31m---------------------------------------------------------------------------\u001b[0m",
      "\u001b[1;31mKeyError\u001b[0m                                  Traceback (most recent call last)",
      "File \u001b[1;32mc:\\Users\\Mahadev Athani\\anaconda3\\Lib\\site-packages\\pandas\\core\\indexes\\base.py:3805\u001b[0m, in \u001b[0;36mIndex.get_loc\u001b[1;34m(self, key)\u001b[0m\n\u001b[0;32m   3804\u001b[0m \u001b[38;5;28;01mtry\u001b[39;00m:\n\u001b[1;32m-> 3805\u001b[0m     \u001b[38;5;28;01mreturn\u001b[39;00m \u001b[38;5;28mself\u001b[39m\u001b[38;5;241m.\u001b[39m_engine\u001b[38;5;241m.\u001b[39mget_loc(casted_key)\n\u001b[0;32m   3806\u001b[0m \u001b[38;5;28;01mexcept\u001b[39;00m \u001b[38;5;167;01mKeyError\u001b[39;00m \u001b[38;5;28;01mas\u001b[39;00m err:\n",
      "File \u001b[1;32mindex.pyx:167\u001b[0m, in \u001b[0;36mpandas._libs.index.IndexEngine.get_loc\u001b[1;34m()\u001b[0m\n",
      "File \u001b[1;32mindex.pyx:196\u001b[0m, in \u001b[0;36mpandas._libs.index.IndexEngine.get_loc\u001b[1;34m()\u001b[0m\n",
      "File \u001b[1;32mpandas\\\\_libs\\\\hashtable_class_helper.pxi:7081\u001b[0m, in \u001b[0;36mpandas._libs.hashtable.PyObjectHashTable.get_item\u001b[1;34m()\u001b[0m\n",
      "File \u001b[1;32mpandas\\\\_libs\\\\hashtable_class_helper.pxi:7089\u001b[0m, in \u001b[0;36mpandas._libs.hashtable.PyObjectHashTable.get_item\u001b[1;34m()\u001b[0m\n",
      "\u001b[1;31mKeyError\u001b[0m: 'total'",
      "\nThe above exception was the direct cause of the following exception:\n",
      "\u001b[1;31mKeyError\u001b[0m                                  Traceback (most recent call last)",
      "Cell \u001b[1;32mIn[34], line 6\u001b[0m\n\u001b[0;32m      4\u001b[0m \u001b[38;5;66;03m# print(df)\u001b[39;00m\n\u001b[0;32m      5\u001b[0m \u001b[38;5;28mprint\u001b[39m(df[\u001b[38;5;124m'\u001b[39m\u001b[38;5;124mPAPER 1\u001b[39m\u001b[38;5;124m'\u001b[39m])\n\u001b[1;32m----> 6\u001b[0m \u001b[38;5;28mprint\u001b[39m(df[\u001b[38;5;124m'\u001b[39m\u001b[38;5;124mtotal\u001b[39m\u001b[38;5;124m'\u001b[39m])\n",
      "File \u001b[1;32mc:\\Users\\Mahadev Athani\\anaconda3\\Lib\\site-packages\\pandas\\core\\frame.py:4102\u001b[0m, in \u001b[0;36mDataFrame.__getitem__\u001b[1;34m(self, key)\u001b[0m\n\u001b[0;32m   4100\u001b[0m \u001b[38;5;28;01mif\u001b[39;00m \u001b[38;5;28mself\u001b[39m\u001b[38;5;241m.\u001b[39mcolumns\u001b[38;5;241m.\u001b[39mnlevels \u001b[38;5;241m>\u001b[39m \u001b[38;5;241m1\u001b[39m:\n\u001b[0;32m   4101\u001b[0m     \u001b[38;5;28;01mreturn\u001b[39;00m \u001b[38;5;28mself\u001b[39m\u001b[38;5;241m.\u001b[39m_getitem_multilevel(key)\n\u001b[1;32m-> 4102\u001b[0m indexer \u001b[38;5;241m=\u001b[39m \u001b[38;5;28mself\u001b[39m\u001b[38;5;241m.\u001b[39mcolumns\u001b[38;5;241m.\u001b[39mget_loc(key)\n\u001b[0;32m   4103\u001b[0m \u001b[38;5;28;01mif\u001b[39;00m is_integer(indexer):\n\u001b[0;32m   4104\u001b[0m     indexer \u001b[38;5;241m=\u001b[39m [indexer]\n",
      "File \u001b[1;32mc:\\Users\\Mahadev Athani\\anaconda3\\Lib\\site-packages\\pandas\\core\\indexes\\base.py:3812\u001b[0m, in \u001b[0;36mIndex.get_loc\u001b[1;34m(self, key)\u001b[0m\n\u001b[0;32m   3807\u001b[0m     \u001b[38;5;28;01mif\u001b[39;00m \u001b[38;5;28misinstance\u001b[39m(casted_key, \u001b[38;5;28mslice\u001b[39m) \u001b[38;5;129;01mor\u001b[39;00m (\n\u001b[0;32m   3808\u001b[0m         \u001b[38;5;28misinstance\u001b[39m(casted_key, abc\u001b[38;5;241m.\u001b[39mIterable)\n\u001b[0;32m   3809\u001b[0m         \u001b[38;5;129;01mand\u001b[39;00m \u001b[38;5;28many\u001b[39m(\u001b[38;5;28misinstance\u001b[39m(x, \u001b[38;5;28mslice\u001b[39m) \u001b[38;5;28;01mfor\u001b[39;00m x \u001b[38;5;129;01min\u001b[39;00m casted_key)\n\u001b[0;32m   3810\u001b[0m     ):\n\u001b[0;32m   3811\u001b[0m         \u001b[38;5;28;01mraise\u001b[39;00m InvalidIndexError(key)\n\u001b[1;32m-> 3812\u001b[0m     \u001b[38;5;28;01mraise\u001b[39;00m \u001b[38;5;167;01mKeyError\u001b[39;00m(key) \u001b[38;5;28;01mfrom\u001b[39;00m \u001b[38;5;21;01merr\u001b[39;00m\n\u001b[0;32m   3813\u001b[0m \u001b[38;5;28;01mexcept\u001b[39;00m \u001b[38;5;167;01mTypeError\u001b[39;00m:\n\u001b[0;32m   3814\u001b[0m     \u001b[38;5;66;03m# If we have a listlike key, _check_indexing_error will raise\u001b[39;00m\n\u001b[0;32m   3815\u001b[0m     \u001b[38;5;66;03m#  InvalidIndexError. Otherwise we fall through and re-raise\u001b[39;00m\n\u001b[0;32m   3816\u001b[0m     \u001b[38;5;66;03m#  the TypeError.\u001b[39;00m\n\u001b[0;32m   3817\u001b[0m     \u001b[38;5;28mself\u001b[39m\u001b[38;5;241m.\u001b[39m_check_indexing_error(key)\n",
      "\u001b[1;31mKeyError\u001b[0m: 'total'"
     ]
    }
   ],
   "source": [
    "\n",
    "import pandas as pd\n",
    "\n",
    "df=pd.read_csv('test.csv')\n",
    "# print(df)\n",
    "print(df['PAPER 1'])\n",
    "print(df['total'])"
   ]
  },
  {
   "cell_type": "code",
   "execution_count": 20,
   "metadata": {},
   "outputs": [
    {
     "data": {
      "text/html": [
       "<div>\n",
       "<style scoped>\n",
       "    .dataframe tbody tr th:only-of-type {\n",
       "        vertical-align: middle;\n",
       "    }\n",
       "\n",
       "    .dataframe tbody tr th {\n",
       "        vertical-align: top;\n",
       "    }\n",
       "\n",
       "    .dataframe thead th {\n",
       "        text-align: right;\n",
       "    }\n",
       "</style>\n",
       "<table border=\"1\" class=\"dataframe\">\n",
       "  <thead>\n",
       "    <tr style=\"text-align: right;\">\n",
       "      <th></th>\n",
       "      <th>Sl.No.</th>\n",
       "      <th>Candidate Name</th>\n",
       "      <th>PAPER 1</th>\n",
       "      <th>PAPER 2</th>\n",
       "      <th>tm</th>\n",
       "    </tr>\n",
       "  </thead>\n",
       "  <tbody>\n",
       "    <tr>\n",
       "      <th>0</th>\n",
       "      <td>False</td>\n",
       "      <td>False</td>\n",
       "      <td>False</td>\n",
       "      <td>False</td>\n",
       "      <td>False</td>\n",
       "    </tr>\n",
       "    <tr>\n",
       "      <th>1</th>\n",
       "      <td>False</td>\n",
       "      <td>False</td>\n",
       "      <td>False</td>\n",
       "      <td>False</td>\n",
       "      <td>False</td>\n",
       "    </tr>\n",
       "    <tr>\n",
       "      <th>2</th>\n",
       "      <td>False</td>\n",
       "      <td>False</td>\n",
       "      <td>False</td>\n",
       "      <td>False</td>\n",
       "      <td>False</td>\n",
       "    </tr>\n",
       "    <tr>\n",
       "      <th>3</th>\n",
       "      <td>False</td>\n",
       "      <td>False</td>\n",
       "      <td>False</td>\n",
       "      <td>False</td>\n",
       "      <td>False</td>\n",
       "    </tr>\n",
       "    <tr>\n",
       "      <th>4</th>\n",
       "      <td>False</td>\n",
       "      <td>False</td>\n",
       "      <td>False</td>\n",
       "      <td>False</td>\n",
       "      <td>False</td>\n",
       "    </tr>\n",
       "    <tr>\n",
       "      <th>...</th>\n",
       "      <td>...</td>\n",
       "      <td>...</td>\n",
       "      <td>...</td>\n",
       "      <td>...</td>\n",
       "      <td>...</td>\n",
       "    </tr>\n",
       "    <tr>\n",
       "      <th>3023</th>\n",
       "      <td>False</td>\n",
       "      <td>False</td>\n",
       "      <td>False</td>\n",
       "      <td>False</td>\n",
       "      <td>False</td>\n",
       "    </tr>\n",
       "    <tr>\n",
       "      <th>3024</th>\n",
       "      <td>False</td>\n",
       "      <td>False</td>\n",
       "      <td>False</td>\n",
       "      <td>False</td>\n",
       "      <td>False</td>\n",
       "    </tr>\n",
       "    <tr>\n",
       "      <th>3025</th>\n",
       "      <td>False</td>\n",
       "      <td>False</td>\n",
       "      <td>False</td>\n",
       "      <td>False</td>\n",
       "      <td>False</td>\n",
       "    </tr>\n",
       "    <tr>\n",
       "      <th>3026</th>\n",
       "      <td>False</td>\n",
       "      <td>False</td>\n",
       "      <td>False</td>\n",
       "      <td>False</td>\n",
       "      <td>False</td>\n",
       "    </tr>\n",
       "    <tr>\n",
       "      <th>3027</th>\n",
       "      <td>False</td>\n",
       "      <td>False</td>\n",
       "      <td>False</td>\n",
       "      <td>False</td>\n",
       "      <td>False</td>\n",
       "    </tr>\n",
       "  </tbody>\n",
       "</table>\n",
       "<p>3028 rows × 5 columns</p>\n",
       "</div>"
      ],
      "text/plain": [
       "      Sl.No.  Candidate Name  PAPER 1  PAPER 2    tm \n",
       "0      False           False    False    False  False\n",
       "1      False           False    False    False  False\n",
       "2      False           False    False    False  False\n",
       "3      False           False    False    False  False\n",
       "4      False           False    False    False  False\n",
       "...      ...             ...      ...      ...    ...\n",
       "3023   False           False    False    False  False\n",
       "3024   False           False    False    False  False\n",
       "3025   False           False    False    False  False\n",
       "3026   False           False    False    False  False\n",
       "3027   False           False    False    False  False\n",
       "\n",
       "[3028 rows x 5 columns]"
      ]
     },
     "execution_count": 20,
     "metadata": {},
     "output_type": "execute_result"
    }
   ],
   "source": [
    "df.isnull()"
   ]
  },
  {
   "cell_type": "code",
   "execution_count": null,
   "metadata": {},
   "outputs": [],
   "source": [
    "import pandas as pd \n",
    "data=pd.read_csv('test.csv')\n",
    "# print(data)\n",
    "# print(data.describe())\n",
    "data.drop('Reg No',axis=1,inplace=True)\n",
    "# print(data.isnull().sum())\n",
    "# print(data)\n",
    "data.drop('APPLICATION NUMBER',axis=1,inplace=True)\n",
    "data.to_csv('data1.csv')\n"
   ]
  },
  {
   "cell_type": "code",
   "execution_count": 24,
   "metadata": {},
   "outputs": [],
   "source": [
    "import pandas as pd \n",
    "result_data=pd.read_csv('data1.csv')\n",
    "# print(result_data)\n",
    "# result_data['total ']\n",
    "# result_data.sort_values(by=['total'])\n",
    "# print(result_data)\n",
    "# print(result_data)\n",
    "result_data.drop('PAPER 1',axis=1,inplace=True)\n",
    "result_data.drop('PAPER 2',axis=1,inplace=True)\n",
    "# result_data.describe()\n",
    "# result_data.sort_values(by=['total'])\n",
    "result_data.to_csv('data_result.csv')"
   ]
  },
  {
   "cell_type": "code",
   "execution_count": 33,
   "metadata": {},
   "outputs": [
    {
     "name": "stdout",
     "output_type": "stream",
     "text": [
      "<class 'numpy.ndarray'>\n"
     ]
    }
   ],
   "source": [
    "import pandas as pd \n",
    "import numpy as np \n",
    "data_result=pd.read_csv('data_result.csv')\n",
    "data_result.head(150)\n",
    "data_result.tail(150)\n",
    "data=np.array(data_result)\n",
    "print(type(data))\n"
   ]
  },
  {
   "cell_type": "code",
   "execution_count": 36,
   "metadata": {},
   "outputs": [
    {
     "name": "stdout",
     "output_type": "stream",
     "text": [
      "      Unnamed: 0.1  Unnamed: 0  Sl.No.                Candidate Name  total \n",
      "0                0           0       1                  DIVYASHREE M   88.75\n",
      "1                1           1       2                    PRADEEP GN   70.00\n",
      "2                2           2       3                       NAVEENA   94.50\n",
      "3                3           3       4           PREETHAAM R HOSGAVI  104.25\n",
      "4                4           4       5                      PARAMESH  102.25\n",
      "...            ...         ...     ...                           ...     ...\n",
      "3023          3023        3023    3024                 MANIKANTA G M   72.50\n",
      "3024          3024        3024    3025                     DARSHAN P  110.25\n",
      "3025          3025        3025    3026                    MANJUNATHA   73.25\n",
      "3026          3026        3026    3027                   ASHWINI B M   81.75\n",
      "3027          3027        3027    3028  PRAVEEN DEVENDRAPPA HALAKERI   98.00\n",
      "\n",
      "[3028 rows x 5 columns]\n"
     ]
    },
    {
     "data": {
      "text/plain": [
       "Unnamed: 0.1        int64\n",
       "Unnamed: 0          int64\n",
       "Sl.No.              int64\n",
       "Candidate Name     object\n",
       "total             float64\n",
       "dtype: object"
      ]
     },
     "execution_count": 36,
     "metadata": {},
     "output_type": "execute_result"
    }
   ],
   "source": [
    "import pandas as pd \n",
    "data_set=pd.read_csv('data_result.csv')\n",
    "print(data_set)\n",
    "data_result.dtypes"
   ]
  },
  {
   "cell_type": "code",
   "execution_count": null,
   "metadata": {},
   "outputs": [],
   "source": []
  },
  {
   "cell_type": "code",
   "execution_count": null,
   "metadata": {},
   "outputs": [],
   "source": []
  }
 ],
 "metadata": {
  "kernelspec": {
   "display_name": "base",
   "language": "python",
   "name": "python3"
  },
  "language_info": {
   "codemirror_mode": {
    "name": "ipython",
    "version": 3
   },
   "file_extension": ".py",
   "mimetype": "text/x-python",
   "name": "python",
   "nbconvert_exporter": "python",
   "pygments_lexer": "ipython3",
   "version": "3.12.7"
  }
 },
 "nbformat": 4,
 "nbformat_minor": 2
}
