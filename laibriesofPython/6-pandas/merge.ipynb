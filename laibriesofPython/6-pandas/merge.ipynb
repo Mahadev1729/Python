{
 "cells": [
  {
   "cell_type": "code",
   "execution_count": null,
   "metadata": {},
   "outputs": [
    {
     "name": "stdout",
     "output_type": "stream",
     "text": [
      "  Key  Value1\n",
      "0   A       1\n",
      "1   B       2\n",
      "2   C       3\n",
      "\n",
      "\n",
      "  Key  Value2\n",
      "0   A       4\n",
      "1   B       5\n",
      "2   D       6\n",
      "---------------------------------------------\n",
      "  Key  Value1  Value2\n",
      "0   A       1       4\n",
      "1   B       2       5\n",
      "-------------------------------------\n",
      "  Key  Value1  Value2\n",
      "0   A     1.0     4.0\n",
      "1   B     2.0     5.0\n",
      "2   C     3.0     NaN\n",
      "3   D     NaN     6.0\n",
      "------------------------------------\n",
      "  Key  Value1  Value2\n",
      "0   A       1     4.0\n",
      "1   B       2     5.0\n",
      "2   C       3     NaN\n"
     ]
    }
   ],
   "source": [
    "import pandas as pd \n",
    "df1=pd.DataFrame({\n",
    "    'Key':['A','B','C'],\n",
    "    'Value1':[1,2,3],\n",
    "})\n",
    "df2=pd.DataFrame({\n",
    "    'Key':['A','B','D'],\n",
    "    'Value2':[4,5,6],\n",
    "})\n",
    "print(df1)\n",
    "print('\\n')\n",
    "print(df2)\n",
    "print('---------------------------------------------')\n",
    "print(pd.merge(df1,df2,on='Key',how='inner'))\n",
    "print('-------------------------------------')\n",
    "print(pd.merge(df1,df2,on=\"Key\",how='outer'))\n",
    "print('------------------------------------')\n",
    "print(pd.merge(df1,df2,on='Key',how='left'))\n"
   ]
  },
  {
   "cell_type": "code",
   "execution_count": 2,
   "metadata": {},
   "outputs": [
    {
     "data": {
      "text/html": [
       "<div>\n",
       "<style scoped>\n",
       "    .dataframe tbody tr th:only-of-type {\n",
       "        vertical-align: middle;\n",
       "    }\n",
       "\n",
       "    .dataframe tbody tr th {\n",
       "        vertical-align: top;\n",
       "    }\n",
       "\n",
       "    .dataframe thead th {\n",
       "        text-align: right;\n",
       "    }\n",
       "</style>\n",
       "<table border=\"1\" class=\"dataframe\">\n",
       "  <thead>\n",
       "    <tr style=\"text-align: right;\">\n",
       "      <th></th>\n",
       "      <th>Key</th>\n",
       "      <th>Value1</th>\n",
       "      <th>Value2</th>\n",
       "    </tr>\n",
       "  </thead>\n",
       "  <tbody>\n",
       "    <tr>\n",
       "      <th>0</th>\n",
       "      <td>A</td>\n",
       "      <td>1.0</td>\n",
       "      <td>4</td>\n",
       "    </tr>\n",
       "    <tr>\n",
       "      <th>1</th>\n",
       "      <td>B</td>\n",
       "      <td>2.0</td>\n",
       "      <td>5</td>\n",
       "    </tr>\n",
       "    <tr>\n",
       "      <th>2</th>\n",
       "      <td>D</td>\n",
       "      <td>NaN</td>\n",
       "      <td>6</td>\n",
       "    </tr>\n",
       "  </tbody>\n",
       "</table>\n",
       "</div>"
      ],
      "text/plain": [
       "  Key  Value1  Value2\n",
       "0   A     1.0       4\n",
       "1   B     2.0       5\n",
       "2   D     NaN       6"
      ]
     },
     "execution_count": 2,
     "metadata": {},
     "output_type": "execute_result"
    }
   ],
   "source": [
    "## right joing {more priority for df2 colums}\n",
    "pd.merge(df1,df2,on='Key',how='right')"
   ]
  },
  {
   "cell_type": "code",
   "execution_count": null,
   "metadata": {},
   "outputs": [],
   "source": []
  }
 ],
 "metadata": {
  "kernelspec": {
   "display_name": "Python 3",
   "language": "python",
   "name": "python3"
  },
  "language_info": {
   "codemirror_mode": {
    "name": "ipython",
    "version": 3
   },
   "file_extension": ".py",
   "mimetype": "text/x-python",
   "name": "python",
   "nbconvert_exporter": "python",
   "pygments_lexer": "ipython3",
   "version": "3.12.8"
  }
 },
 "nbformat": 4,
 "nbformat_minor": 2
}
