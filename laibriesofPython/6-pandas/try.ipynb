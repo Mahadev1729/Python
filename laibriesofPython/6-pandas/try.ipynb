{
 "cells": [
  {
   "cell_type": "code",
   "execution_count": 4,
   "metadata": {},
   "outputs": [
    {
     "data": {
      "text/html": [
       "<div>\n",
       "<style scoped>\n",
       "    .dataframe tbody tr th:only-of-type {\n",
       "        vertical-align: middle;\n",
       "    }\n",
       "\n",
       "    .dataframe tbody tr th {\n",
       "        vertical-align: top;\n",
       "    }\n",
       "\n",
       "    .dataframe thead th {\n",
       "        text-align: right;\n",
       "    }\n",
       "</style>\n",
       "<table border=\"1\" class=\"dataframe\">\n",
       "  <thead>\n",
       "    <tr style=\"text-align: right;\">\n",
       "      <th></th>\n",
       "      <th>Name</th>\n",
       "      <th>Age</th>\n",
       "      <th>Gender</th>\n",
       "    </tr>\n",
       "  </thead>\n",
       "  <tbody>\n",
       "    <tr>\n",
       "      <th>0</th>\n",
       "      <td>Mahadev</td>\n",
       "      <td>45.0</td>\n",
       "      <td>male</td>\n",
       "    </tr>\n",
       "    <tr>\n",
       "      <th>1</th>\n",
       "      <td>Shankar</td>\n",
       "      <td>NaN</td>\n",
       "      <td>NaN</td>\n",
       "    </tr>\n",
       "  </tbody>\n",
       "</table>\n",
       "</div>"
      ],
      "text/plain": [
       "      Name   Age Gender\n",
       "0  Mahadev  45.0   male\n",
       "1  Shankar   NaN    NaN"
      ]
     },
     "execution_count": 4,
     "metadata": {},
     "output_type": "execute_result"
    }
   ],
   "source": [
    "import pandas as pd\n",
    "data_frame=pd.DataFrame([\n",
    "    {\n",
    "        'Name':\"Mahadev\",\n",
    "        'Age':45,\n",
    "        'Gender':\"male\",\n",
    "    },\n",
    "    {\n",
    "        'Name':\"Shankar\"\n",
    "    }\n",
    "])\n",
    "data_frame"
   ]
  },
  {
   "cell_type": "code",
   "execution_count": 31,
   "metadata": {},
   "outputs": [
    {
     "name": "stdout",
     "output_type": "stream",
     "text": [
      "    Candidate Name  total \n",
      "150          VIJAY   92.75\n"
     ]
    }
   ],
   "source": [
    "import pandas as pd\n",
    "data_result=pd.read_csv('data_result.csv')\n",
    "data_result\n",
    "# print(data_result)\n",
    "# print(data_result[data_result['Candidate Name']],['total'])\n",
    "print(data_result[data_result['Candidate Name']=='VIJAY'][['Candidate Name','total ']])"
   ]
  },
  {
   "cell_type": "code",
   "execution_count": 36,
   "metadata": {},
   "outputs": [
    {
     "name": "stdout",
     "output_type": "stream",
     "text": [
      "[3028, 4]\n",
      "3028 4\n"
     ]
    }
   ],
   "source": [
    "print(list(data_result.shape))\n",
    "print(data_result.shape[0],data_result.shape[1])"
   ]
  },
  {
   "cell_type": "code",
   "execution_count": 7,
   "metadata": {},
   "outputs": [
    {
     "name": "stdout",
     "output_type": "stream",
     "text": [
      "      Unnamed: 0  Sl.No.                Candidate Name   Total  GraceMarks\n",
      "0              0       1                  DIVYASHREE M   88.75      97.625\n",
      "1              1       2                    PRADEEP GN   70.00      77.000\n",
      "2              2       3                       NAVEENA   94.50     103.950\n",
      "3              3       4           PREETHAAM R HOSGAVI  104.25     114.675\n",
      "4              4       5                      PARAMESH  102.25     112.475\n",
      "...          ...     ...                           ...     ...         ...\n",
      "3023        3023    3024                 MANIKANTA G M   72.50      79.750\n",
      "3024        3024    3025                     DARSHAN P  110.25     121.275\n",
      "3025        3025    3026                    MANJUNATHA   73.25      80.575\n",
      "3026        3026    3027                   ASHWINI B M   81.75      89.925\n",
      "3027        3027    3028  PRAVEEN DEVENDRAPPA HALAKERI   98.00     107.800\n",
      "\n",
      "[3028 rows x 5 columns]\n"
     ]
    }
   ],
   "source": [
    "import pandas as pd\n",
    "data_result_va=pd.read_csv('data_result.csv')\n",
    "data_result_va\n",
    "data_result_va.describe()\n",
    "data_result_va=data_result_va.rename(columns={'total ':'Total'})## using dictionary\n",
    "\n",
    "data_result_va['GraceMarks']=data_result_va['Total'].apply(lambda x:x+(x/10))\n",
    "print(data_result_va)\n"
   ]
  },
  {
   "cell_type": "code",
   "execution_count": null,
   "metadata": {},
   "outputs": [],
   "source": []
  },
  {
   "cell_type": "code",
   "execution_count": null,
   "metadata": {},
   "outputs": [],
   "source": []
  },
  {
   "cell_type": "code",
   "execution_count": null,
   "metadata": {},
   "outputs": [],
   "source": []
  },
  {
   "cell_type": "code",
   "execution_count": null,
   "metadata": {},
   "outputs": [],
   "source": []
  },
  {
   "cell_type": "code",
   "execution_count": null,
   "metadata": {},
   "outputs": [],
   "source": []
  }
 ],
 "metadata": {
  "kernelspec": {
   "display_name": "base",
   "language": "python",
   "name": "python3"
  },
  "language_info": {
   "codemirror_mode": {
    "name": "ipython",
    "version": 3
   },
   "file_extension": ".py",
   "mimetype": "text/x-python",
   "name": "python",
   "nbconvert_exporter": "python",
   "pygments_lexer": "ipython3",
   "version": "3.12.7"
  }
 },
 "nbformat": 4,
 "nbformat_minor": 2
}
