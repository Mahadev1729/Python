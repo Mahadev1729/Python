{
 "cells": [
  {
   "cell_type": "code",
   "execution_count": 17,
   "metadata": {},
   "outputs": [
    {
     "name": "stdout",
     "output_type": "stream",
     "text": [
      "Array:\n",
      " [[ 1  2  3  4]\n",
      " [ 5  6  7  8]\n",
      " [ 9 10 11 12]]\n",
      "1\n",
      "[[ 6  7  8]\n",
      " [10 11 12]]\n",
      "[[3 4]\n",
      " [7 8]]\n",
      "[[1 2]\n",
      " [5 6]]\n",
      "<class 'numpy.ndarray'>\n"
     ]
    }
   ],
   "source": [
    "import numpy as np \n",
    "arr=np.array([\n",
    "    [1,2,3,4],\n",
    "    [5,6,7,8],\n",
    "    [9,10,11,12]])\n",
    "print('Array:\\n',arr)\n",
    "print(arr[0][0])\n",
    "print(arr[1:,1:])\n",
    "print(arr[0:2,2:])\n",
    "print(arr[0:2,:2])\n",
    "print(type(arr))\n",
    "\n"
   ]
  },
  {
   "cell_type": "code",
   "execution_count": 10,
   "metadata": {},
   "outputs": [
    {
     "name": "stdout",
     "output_type": "stream",
     "text": [
      "[4. 5. 6. 7.]\n"
     ]
    }
   ],
   "source": [
    "import numpy as np\n",
    "arr=np.array([4,5,6,7],float)\n",
    "print(arr)"
   ]
  },
  {
   "cell_type": "code",
   "execution_count": null,
   "metadata": {},
   "outputs": [
    {
     "name": "stdout",
     "output_type": "stream",
     "text": [
      "Python List Time: 0.08794140815734863\n",
      "NumPy Array Time: 0.002419710159301758\n"
     ]
    }
   ],
   "source": [
    "import numpy as np\n",
    "import time\n",
    "\n",
    "\n",
    "python_list = list(range(1000000))\n",
    "\n",
    "\n",
    "numpy_array = np.array(python_list)\n",
    "\n",
    "\n",
    "start = time.time()\n",
    "python_result = [x * 2 for x in python_list]\n",
    "print(\"Python List Time:\", time.time() - start)\n",
    "\n",
    "start = time.time()\n",
    "numpy_result = numpy_array * 2\n",
    "print(\"NumPy Array Time:\", time.time() - start)\n"
   ]
  },
  {
   "cell_type": "code",
   "execution_count": null,
   "metadata": {},
   "outputs": [],
   "source": []
  }
 ],
 "metadata": {
  "kernelspec": {
   "display_name": "base",
   "language": "python",
   "name": "python3"
  },
  "language_info": {
   "codemirror_mode": {
    "name": "ipython",
    "version": 3
   },
   "file_extension": ".py",
   "mimetype": "text/x-python",
   "name": "python",
   "nbconvert_exporter": "python",
   "pygments_lexer": "ipython3",
   "version": "3.12.7"
  }
 },
 "nbformat": 4,
 "nbformat_minor": 2
}
