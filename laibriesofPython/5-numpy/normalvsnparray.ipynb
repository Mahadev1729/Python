{
 "cells": [
  {
   "cell_type": "code",
   "execution_count": null,
   "metadata": {},
   "outputs": [],
   "source": [
    "import numpy as np\n",
    "import time\n",
    "\n",
    "\n",
    "python_list = list(range(1000000))\n",
    "\n",
    "\n",
    "numpy_array = np.array(python_list)\n",
    "\n",
    "\n",
    "start = time.time()\n",
    "python_result = [x * 2 for x in python_list]\n",
    "print(\"Python List Time:\", time.time() - start)\n",
    "\n",
    "start = time.time()\n",
    "numpy_result = numpy_array * 2\n",
    "print(\"NumPy Array Time:\", time.time() - start)\n"
   ]
  }
 ],
 "metadata": {
  "kernelspec": {
   "display_name": "base",
   "language": "python",
   "name": "python3"
  },
  "language_info": {
   "name": "python",
   "version": "3.12.7"
  }
 },
 "nbformat": 4,
 "nbformat_minor": 2
}
