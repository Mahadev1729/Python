{
 "cells": [
  {
   "cell_type": "code",
   "execution_count": 3,
   "metadata": {},
   "outputs": [
    {
     "name": "stdout",
     "output_type": "stream",
     "text": [
      "54.0\n",
      "56.0\n",
      "808.0\n",
      "28.42534080710379\n",
      "[False False False False False]\n",
      "[34 56 78 90]\n",
      "[56]\n"
     ]
    }
   ],
   "source": [
    "import numpy as np \n",
    "data=np.array([12,34,56,78,90])\n",
    "data_mean=np.mean(data)\n",
    "data_var=np.var(data)\n",
    "data_med=np.median(data)\n",
    "data_std=np.std(data)\n",
    "print(data_mean)\n",
    "print(data_med)\n",
    "print(data_var)\n",
    "print(data_std)\n",
    "print(data<5)\n",
    "print(data[data>14])\n",
    "print(data[data==56])"
   ]
  },
  {
   "cell_type": "code",
   "execution_count": null,
   "metadata": {},
   "outputs": [],
   "source": []
  }
 ],
 "metadata": {
  "kernelspec": {
   "display_name": "base",
   "language": "python",
   "name": "python3"
  },
  "language_info": {
   "codemirror_mode": {
    "name": "ipython",
    "version": 3
   },
   "file_extension": ".py",
   "mimetype": "text/x-python",
   "name": "python",
   "nbconvert_exporter": "python",
   "pygments_lexer": "ipython3",
   "version": "3.12.7"
  }
 },
 "nbformat": 4,
 "nbformat_minor": 2
}
